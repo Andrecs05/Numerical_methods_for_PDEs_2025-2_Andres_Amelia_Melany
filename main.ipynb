{
 "cells": [
  {
   "cell_type": "markdown",
   "id": "1a09c68b",
   "metadata": {},
   "source": [
    "##MINIPROYECTOS | MÉTODOS NUMÉRICOS\n",
    "###Andrés Felipe Contreras, Amelia Hoyos, Melany Daza"
   ]
  },
  {
   "cell_type": "markdown",
   "id": "dd37949a",
   "metadata": {},
   "source": [
    "Required packages"
   ]
  },
  {
   "cell_type": "code",
   "execution_count": null,
   "id": "b202a096",
   "metadata": {},
   "outputs": [],
   "source": [
    "import numpy as np\n",
    "import matplotlib.pyplot as plt\n",
    "import sympy as sp"
   ]
  },
  {
   "cell_type": "code",
   "execution_count": null,
   "id": "5c890a02",
   "metadata": {},
   "outputs": [],
   "source": []
  }
 ],
 "metadata": {
  "kernelspec": {
   "display_name": ".conda",
   "language": "python",
   "name": "python3"
  },
  "language_info": {
   "codemirror_mode": {
    "name": "ipython",
    "version": 3
   },
   "file_extension": ".py",
   "mimetype": "text/x-python",
   "name": "python",
   "nbconvert_exporter": "python",
   "pygments_lexer": "ipython3",
   "version": "3.11.13"
  }
 },
 "nbformat": 4,
 "nbformat_minor": 5
}
