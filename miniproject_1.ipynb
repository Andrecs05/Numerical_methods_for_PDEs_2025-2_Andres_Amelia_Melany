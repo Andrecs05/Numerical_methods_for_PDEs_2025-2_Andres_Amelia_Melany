{
 "cells": [
  {
   "cell_type": "markdown",
   "id": "1a09c68b",
   "metadata": {},
   "source": [
    "##MINIPROYECTOS | MÉTODOS NUMÉRICOS\n",
    "###Andrés Felipe Contreras, Amelia Hoyos, Melany Daza"
   ]
  },
  {
   "cell_type": "markdown",
   "id": "dd37949a",
   "metadata": {},
   "source": [
    "Required packages"
   ]
  },
  {
   "cell_type": "code",
   "execution_count": 2,
   "id": "b202a096",
   "metadata": {},
   "outputs": [],
   "source": [
    "import numpy as np\n",
    "import matplotlib.pyplot as plt\n",
    "import sympy as sp\n",
    "from utilities import *"
   ]
  },
  {
   "cell_type": "code",
   "execution_count": 12,
   "id": "5c890a02",
   "metadata": {},
   "outputs": [
    {
     "name": "stdout",
     "output_type": "stream",
     "text": [
      "3*x**2\n",
      "12\n"
     ]
    }
   ],
   "source": [
    "p0 = [-1,3]\n",
    "p1 = [0,0]\n",
    "p2 = [1,3]\n",
    "\n",
    "x = sp.symbols('x')\n",
    "\n",
    "\n",
    "fx = Lagrange_interpolation_3(p0, p1, p2)\n",
    "fx = sp.simplify(fx)\n",
    "print(fx)\n",
    "function = sp.lambdify(x, fx, 'numpy')\n",
    "print(function(2))\n"
   ]
  }
 ],
 "metadata": {
  "kernelspec": {
   "display_name": "base",
   "language": "python",
   "name": "python3"
  },
  "language_info": {
   "codemirror_mode": {
    "name": "ipython",
    "version": 3
   },
   "file_extension": ".py",
   "mimetype": "text/x-python",
   "name": "python",
   "nbconvert_exporter": "python",
   "pygments_lexer": "ipython3",
   "version": "3.11.4"
  }
 },
 "nbformat": 4,
 "nbformat_minor": 5
}
