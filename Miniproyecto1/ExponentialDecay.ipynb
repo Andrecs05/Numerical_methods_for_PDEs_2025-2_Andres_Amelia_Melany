{
 "cells": [
  {
   "cell_type": "markdown",
   "id": "866d736b",
   "metadata": {},
   "source": [
    "Para el problema de decaimiento exponencial visto en clase, proponer y realizar\n",
    "experimentos virtuales que verifiquen las tres afirmaciones que se hacen al final de la\n",
    "sección 2.2 del libro Finite difference computing with Exponential Decay Problem de los\n",
    "recursos del curso.\n",
    "\n",
    "\n",
    "Teniendolas en cuenta, encuentre zonas de linealidad entre el logaritmo del error y el\n",
    "logaritmo del paso de tiempo para los 3 esquemas y estime la pendiente de dicha relación\n",
    "para cada caso. Discuta sobre estos valores frente a los órdenes de las aproximaciones.\n",
    "Para el error, utilice la normal dada por la ecuación 1.57 de la sección 1.2.10 del mismo\n",
    "libro."
   ]
  }
 ],
 "metadata": {
  "language_info": {
   "name": "python"
  }
 },
 "nbformat": 4,
 "nbformat_minor": 5
}
